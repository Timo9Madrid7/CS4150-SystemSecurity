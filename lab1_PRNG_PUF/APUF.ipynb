{
 "cells": [
  {
   "cell_type": "code",
   "execution_count": 1,
   "metadata": {},
   "outputs": [],
   "source": [
    "import numpy as np \n",
    "from sklearn.linear_model import LogisticRegression\n",
    "from sklearn.neural_network import MLPClassifier\n",
    "from sklearn.model_selection import train_test_split \n",
    "\n",
    "import warnings\n",
    "warnings.filterwarnings(\"ignore\")"
   ]
  },
  {
   "cell_type": "markdown",
   "metadata": {},
   "source": [
    "# PUF"
   ]
  },
  {
   "cell_type": "code",
   "execution_count": 2,
   "metadata": {},
   "outputs": [
    {
     "name": "stdout",
     "output_type": "stream",
     "text": [
      "- Logistic Classifier:\n",
      "\t traning accuracy: 0.99125\n",
      "\t testing accuracy: 0.995\n",
      "\n",
      "- Multi-layer Perceptron:\n",
      "\t traning accuracy: 0.9925\n",
      "\t testing accuracy: 0.99\n",
      "\n"
     ]
    }
   ],
   "source": [
    "# -*- coding: utf-8 -*-\n",
    "\"\"\"\n",
    "Created on Tue May 21 08:57:08 2019\n",
    "\n",
    "@author: stjepan\n",
    "\"\"\"\n",
    "\n",
    "n_stages = 16\n",
    "n_crp = 1000\n",
    "\n",
    "stage_delays = np.random.normal(size=n_stages+1)\n",
    "# print(stage_delays)\n",
    "\n",
    "x = []\n",
    "y = []\n",
    "\n",
    "for _ in range(n_crp):\n",
    "    challenge_vector = np.random.randint(2, size=n_stages)\n",
    "    # print(challenge_vector)\n",
    "    feature_vector = []\n",
    "    for i in range(n_stages):\n",
    "        feature = 1\n",
    "        for j in range(i, n_stages):\n",
    "            feature = feature * pow(-1, challenge_vector[j])\n",
    "        feature_vector.append(feature)\n",
    "    feature_vector.append(1)\n",
    "    # print(feature_vector)\n",
    "    puf_result = np.dot(stage_delays, feature_vector) > 0\n",
    "    x.append(feature_vector)\n",
    "    y.append(puf_result)\n",
    "\n",
    "x_array = np.array(x)\n",
    "y_array = np.array(y)\n",
    "# print(x_array.shape)\n",
    "# print(y_array.shape)\n",
    "\n",
    "X_train, X_test, Y_train, Y_test = train_test_split(\n",
    "    x_array, y_array, test_size=0.2, random_state=0)\n",
    "# print(X_train.shape)\n",
    "\n",
    "print(\"- Logistic Classifier:\")\n",
    "clf_lr = LogisticRegression(solver=\"lbfgs\").fit(X_train, Y_train)\n",
    "print(\"\\t traning accuracy:\", clf_lr.score(X_train, Y_train))\n",
    "Y_pred = clf_lr.predict(X_test)\n",
    "print(\"\\t testing accuracy:\", clf_lr.score(X_test, Y_test))\n",
    "print()\n",
    "\n",
    "print(\"- Multi-layer Perceptron:\")\n",
    "clf_mlp = MLPClassifier(hidden_layer_sizes=(n_stages,)).fit(X_train, Y_train)\n",
    "print(\"\\t traning accuracy:\", clf_mlp.score(X_train, Y_train))\n",
    "Y_pred = clf_mlp.predict(X_test)\n",
    "print(\"\\t testing accuracy:\", clf_mlp.score(X_test, Y_test))\n",
    "print()"
   ]
  },
  {
   "cell_type": "markdown",
   "metadata": {},
   "source": [
    "# XOR PUF"
   ]
  },
  {
   "cell_type": "code",
   "execution_count": 3,
   "metadata": {},
   "outputs": [
    {
     "name": "stdout",
     "output_type": "stream",
     "text": [
      "- Logistic Classifier:\n",
      "\t traning accuracy: 0.567625\n",
      "\t testing accuracy: 0.5565\n",
      "\n",
      "- Multi-layer Perceptron:\n",
      "\t traning accuracy: 0.979875\n",
      "\t testing accuracy: 0.9705\n",
      "\n"
     ]
    }
   ],
   "source": [
    "n_stages = 8\n",
    "n_puf = 3\n",
    "n_crp = 10000\n",
    "\n",
    "stage_delays = np.random.normal(size=(n_puf, n_stages+1))\n",
    "\n",
    "x = []\n",
    "y = []\n",
    "\n",
    "for _ in range(n_crp):\n",
    "\n",
    "    challenge_vector = np.random.randint(2, size=(n_puf, n_stages))\n",
    "    feature_vector_xor = []\n",
    "    puf_result = 0\n",
    "\n",
    "    for k in range(n_puf):\n",
    "        '''\n",
    "        for each puf, \n",
    "        calculate its result and xor with the previous one\n",
    "        '''\n",
    "        feature_vector = []\n",
    "        for i in range(n_stages):\n",
    "            feature = 1\n",
    "            for j in range(i, n_stages):\n",
    "                feature = feature * pow(-1, challenge_vector[k, j])\n",
    "            feature_vector.append(feature)\n",
    "        feature_vector.append(1)\n",
    "        puf_result ^= np.dot(stage_delays[k], feature_vector) > 0  # XOR Arbiter\n",
    "#         print(puf_result, stage_delays[k], feature_vector)\n",
    "        feature_vector_xor.append(feature_vector)\n",
    "\n",
    "    x.append(feature_vector_xor)\n",
    "    y.append(puf_result)\n",
    "\n",
    "x_array = np.array(x)\n",
    "y_array = np.array(y)\n",
    "# print(x_array.shape)\n",
    "# print(y_array.shape)\n",
    "\n",
    "X_train, X_test, Y_train, Y_test = train_test_split(\n",
    "    x_array.reshape(x_array.shape[0], x_array.shape[1]*x_array.shape[2]), y_array, test_size=0.2, random_state=0)\n",
    "# print(X_train.shape)\n",
    "\n",
    "print(\"- Logistic Classifier:\")\n",
    "clf_lr = LogisticRegression(solver=\"lbfgs\").fit(X_train, Y_train)\n",
    "print(\"\\t traning accuracy:\", clf_lr.score(X_train, Y_train))\n",
    "Y_pred = clf_lr.predict(X_test)\n",
    "print(\"\\t testing accuracy:\", clf_lr.score(X_test, Y_test))\n",
    "print()\n",
    "\n",
    "print(\"- Multi-layer Perceptron:\")\n",
    "clf_mlp = MLPClassifier(hidden_layer_sizes=(\n",
    "    n_stages, n_puf, 2), activation='relu').fit(X_train, Y_train)\n",
    "print(\"\\t traning accuracy:\", clf_mlp.score(X_train, Y_train))\n",
    "Y_pred = clf_mlp.predict(X_test)\n",
    "print(\"\\t testing accuracy:\", clf_mlp.score(X_test, Y_test))\n",
    "print()"
   ]
  },
  {
   "cell_type": "markdown",
   "metadata": {},
   "source": [
    "# Interpose PUF"
   ]
  },
  {
   "cell_type": "code",
   "execution_count": null,
   "metadata": {},
   "outputs": [],
   "source": []
  }
 ],
 "metadata": {
  "kernelspec": {
   "display_name": "Python 3",
   "language": "python",
   "name": "python3"
  },
  "language_info": {
   "codemirror_mode": {
    "name": "ipython",
    "version": 3
   },
   "file_extension": ".py",
   "mimetype": "text/x-python",
   "name": "python",
   "nbconvert_exporter": "python",
   "pygments_lexer": "ipython3",
   "version": "3.8.5"
  }
 },
 "nbformat": 4,
 "nbformat_minor": 4
}
